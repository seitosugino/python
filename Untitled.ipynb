{
 "cells": [
  {
   "cell_type": "code",
   "execution_count": 1,
   "id": "2a95cf87",
   "metadata": {},
   "outputs": [],
   "source": [
    "import os "
   ]
  },
  {
   "cell_type": "code",
   "execution_count": 2,
   "id": "4a2606ea",
   "metadata": {},
   "outputs": [],
   "source": [
    "os.environ['GOOGLE_APPLICATION_CREDENTIALS'] = 'secret.json'"
   ]
  },
  {
   "cell_type": "code",
   "execution_count": 3,
   "id": "d36f9837",
   "metadata": {},
   "outputs": [
    {
     "name": "stdout",
     "output_type": "stream",
     "text": [
      "Collecting google-cloud-texttospeech\n",
      "  Downloading google_cloud_texttospeech-2.7.1-py2.py3-none-any.whl (65 kB)\n",
      "     |████████████████████████████████| 65 kB 3.6 MB/s             \n",
      "\u001b[?25hCollecting google-api-core[grpc]<3.0.0dev,>=1.28.0\n",
      "  Downloading google_api_core-2.2.2-py2.py3-none-any.whl (95 kB)\n",
      "     |████████████████████████████████| 95 kB 12.6 MB/s            \n",
      "\u001b[?25hCollecting proto-plus>=1.4.0\n",
      "  Downloading proto_plus-1.19.7-py3-none-any.whl (45 kB)\n",
      "     |████████████████████████████████| 45 kB 7.1 MB/s             \n",
      "\u001b[?25hRequirement already satisfied: requests<3.0.0dev,>=2.18.0 in /Users/sugino/opt/anaconda3/lib/python3.8/site-packages (from google-api-core[grpc]<3.0.0dev,>=1.28.0->google-cloud-texttospeech) (2.25.1)\n",
      "Collecting googleapis-common-protos<2.0dev,>=1.52.0\n",
      "  Downloading googleapis_common_protos-1.53.0-py2.py3-none-any.whl (198 kB)\n",
      "     |████████████████████████████████| 198 kB 36.7 MB/s            \n",
      "\u001b[?25hRequirement already satisfied: setuptools>=40.3.0 in /Users/sugino/opt/anaconda3/lib/python3.8/site-packages (from google-api-core[grpc]<3.0.0dev,>=1.28.0->google-cloud-texttospeech) (52.0.0.post20210125)\n",
      "Requirement already satisfied: protobuf>=3.12.0 in /Users/sugino/opt/anaconda3/lib/python3.8/site-packages (from google-api-core[grpc]<3.0.0dev,>=1.28.0->google-cloud-texttospeech) (3.19.1)\n",
      "Collecting google-auth<3.0dev,>=1.25.0\n",
      "  Downloading google_auth-2.3.3-py2.py3-none-any.whl (155 kB)\n",
      "     |████████████████████████████████| 155 kB 32.0 MB/s            \n",
      "\u001b[?25hCollecting grpcio<2.0dev,>=1.33.2\n",
      "  Downloading grpcio-1.41.1-cp38-cp38-macosx_10_10_x86_64.whl (3.9 MB)\n",
      "     |████████████████████████████████| 3.9 MB 50.3 MB/s            \n",
      "\u001b[?25hCollecting grpcio-status<2.0dev,>=1.33.2\n",
      "  Downloading grpcio_status-1.41.1-py3-none-any.whl (9.2 kB)\n",
      "Collecting pyasn1-modules>=0.2.1\n",
      "  Downloading pyasn1_modules-0.2.8-py2.py3-none-any.whl (155 kB)\n",
      "     |████████████████████████████████| 155 kB 48.8 MB/s            \n",
      "\u001b[?25hRequirement already satisfied: cachetools<5.0,>=2.0.0 in /Users/sugino/opt/anaconda3/lib/python3.8/site-packages (from google-auth<3.0dev,>=1.25.0->google-api-core[grpc]<3.0.0dev,>=1.28.0->google-cloud-texttospeech) (4.2.4)\n",
      "Requirement already satisfied: six>=1.9.0 in /Users/sugino/opt/anaconda3/lib/python3.8/site-packages (from google-auth<3.0dev,>=1.25.0->google-api-core[grpc]<3.0.0dev,>=1.28.0->google-cloud-texttospeech) (1.15.0)\n",
      "Collecting rsa<5,>=3.1.4\n",
      "  Downloading rsa-4.7.2-py3-none-any.whl (34 kB)\n",
      "Requirement already satisfied: idna<3,>=2.5 in /Users/sugino/opt/anaconda3/lib/python3.8/site-packages (from requests<3.0.0dev,>=2.18.0->google-api-core[grpc]<3.0.0dev,>=1.28.0->google-cloud-texttospeech) (2.10)\n",
      "Requirement already satisfied: certifi>=2017.4.17 in /Users/sugino/opt/anaconda3/lib/python3.8/site-packages (from requests<3.0.0dev,>=2.18.0->google-api-core[grpc]<3.0.0dev,>=1.28.0->google-cloud-texttospeech) (2020.12.5)\n",
      "Requirement already satisfied: chardet<5,>=3.0.2 in /Users/sugino/opt/anaconda3/lib/python3.8/site-packages (from requests<3.0.0dev,>=2.18.0->google-api-core[grpc]<3.0.0dev,>=1.28.0->google-cloud-texttospeech) (4.0.0)\n",
      "Requirement already satisfied: urllib3<1.27,>=1.21.1 in /Users/sugino/opt/anaconda3/lib/python3.8/site-packages (from requests<3.0.0dev,>=2.18.0->google-api-core[grpc]<3.0.0dev,>=1.28.0->google-cloud-texttospeech) (1.26.4)\n",
      "Collecting pyasn1<0.5.0,>=0.4.6\n",
      "  Downloading pyasn1-0.4.8-py2.py3-none-any.whl (77 kB)\n",
      "     |████████████████████████████████| 77 kB 16.6 MB/s            \n",
      "\u001b[?25hInstalling collected packages: pyasn1, rsa, pyasn1-modules, grpcio, googleapis-common-protos, google-auth, grpcio-status, google-api-core, proto-plus, google-cloud-texttospeech\n",
      "Successfully installed google-api-core-2.2.2 google-auth-2.3.3 google-cloud-texttospeech-2.7.1 googleapis-common-protos-1.53.0 grpcio-1.41.1 grpcio-status-1.41.1 proto-plus-1.19.7 pyasn1-0.4.8 pyasn1-modules-0.2.8 rsa-4.7.2\n"
     ]
    }
   ],
   "source": [
    "!pip3 install --upgrade google-cloud-texttospeech"
   ]
  },
  {
   "cell_type": "code",
   "execution_count": 6,
   "id": "2210511c",
   "metadata": {},
   "outputs": [
    {
     "name": "stdout",
     "output_type": "stream",
     "text": [
      "音声データはoutput.mp3ファイルに書き出しました。\n"
     ]
    }
   ],
   "source": [
    "from google.cloud import texttospeech\n",
    "\n",
    "client = texttospeech.TextToSpeechClient()\n",
    "\n",
    "synthesis_input = texttospeech.SynthesisInput(text=\"Hello, World!\")\n",
    "\n",
    "voice = texttospeech.VoiceSelectionParams(\n",
    "    language_code=\"en-US\", ssml_gender=texttospeech.SsmlVoiceGender.NEUTRAL\n",
    ")\n",
    "\n",
    "audio_config = texttospeech.AudioConfig(\n",
    "    audio_encoding=texttospeech.AudioEncoding.MP3\n",
    ")\n",
    "\n",
    "response = client.synthesize_speech(\n",
    "    input=synthesis_input, voice=voice, audio_config=audio_config\n",
    ")\n",
    "\n",
    "filename = \"output.mp3\"\n",
    "with open(filename, \"wb\") as out:\n",
    "    out.write(response.audio_content)\n",
    "    print(f'音声データは{filename}ファイルに書き出しました。')"
   ]
  },
  {
   "cell_type": "code",
   "execution_count": 11,
   "id": "d1d336be",
   "metadata": {},
   "outputs": [],
   "source": [
    "from google.cloud import texttospeech\n",
    "\n",
    "client = texttospeech.TextToSpeechClient()\n",
    "\n",
    "synthesis_input = texttospeech.SynthesisInput(text=\"こんにちは\")\n",
    "\n",
    "voice = texttospeech.VoiceSelectionParams(\n",
    "    language_code=\"ja-JP\", ssml_gender=texttospeech.SsmlVoiceGender.NEUTRAL\n",
    ")\n",
    "\n",
    "audio_config = texttospeech.AudioConfig(\n",
    "    audio_encoding=texttospeech.AudioEncoding.MP3\n",
    ")\n",
    "\n",
    "response = client.synthesize_speech(\n",
    "    input=synthesis_input, voice=voice, audio_config=audio_config\n",
    ")\n",
    "\n",
    "#filename = \"output.mp3\"\n",
    "#with open(filename, \"wb\") as out:\n",
    "#    out.write(response.audio_content)\n",
    "#    print(f'音声データは{filename}ファイルに書き出しました。')"
   ]
  },
  {
   "cell_type": "code",
   "execution_count": 12,
   "id": "fd8d7451",
   "metadata": {},
   "outputs": [
    {
     "data": {
      "text/html": [
       "\n",
       "                <audio  controls=\"controls\" >\n",
       "                    <source src=\"data:audio/wav;base64,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\" type=\"audio/wav\" />\n",
       "                    Your browser does not support the audio element.\n",
       "                </audio>\n",
       "              "
      ],
      "text/plain": [
       "<IPython.lib.display.Audio object>"
      ]
     },
     "execution_count": 12,
     "metadata": {},
     "output_type": "execute_result"
    }
   ],
   "source": [
    "from IPython.display import Audio\n",
    "Audio(response.audio_content)"
   ]
  },
  {
   "cell_type": "code",
   "execution_count": 13,
   "id": "d78ead89",
   "metadata": {},
   "outputs": [
    {
     "data": {
      "text/html": [
       "\n",
       "                <audio  controls=\"controls\" >\n",
       "                    <source src=\"data:audio/wav;base64,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\" type=\"audio/wav\" />\n",
       "                    Your browser does not support the audio element.\n",
       "                </audio>\n",
       "              "
      ],
      "text/plain": [
       "<IPython.lib.display.Audio object>"
      ]
     },
     "execution_count": 13,
     "metadata": {},
     "output_type": "execute_result"
    }
   ],
   "source": [
    "def syhnthesize_speech(text, lang='日本語', gender='defalut'):\n",
    "        gender_type = {\n",
    "            'defalut': texttospeech.SsmlVoiceGender.SSML_VOICE_GENDER_UNSPECIFIED,\n",
    "            'male': texttospeech.SsmlVoiceGender.MALE,\n",
    "            'female': texttospeech.SsmlVoiceGender.FEMALE,\n",
    "            'neutral': texttospeech.SsmlVoiceGender.NEUTRAL\n",
    "        }\n",
    "        lang-code = {\n",
    "            '英語': 'en-US',\n",
    "            '日本語': 'ja-JP'\n",
    "        }\n",
    "\n",
    "        lang = '日本語'\n",
    "        gender = 'defalut'\n",
    "        text = \"こんにちは\"\n",
    "\n",
    "        client = texttospeech.TextToSpeechClient()\n",
    "\n",
    "        synthesis_input = texttospeech.SynthesisInput(text=text)\n",
    "\n",
    "        voice = texttospeech.VoiceSelectionParams(\n",
    "            language_code=lang_code[lang], ssml_gender=gender_type[gender]\n",
    "        )\n",
    "\n",
    "        audio_config = texttospeech.AudioConfig(\n",
    "            audio_encoding=texttospeech.AudioEncoding.MP3\n",
    "        )\n",
    "\n",
    "        response = client.synthesize_speech(\n",
    "            input=synthesis_input, voice=voice, audio_config=audio_config\n",
    "        )\n",
    "\n",
    "        return response"
   ]
  },
  {
   "cell_type": "code",
   "execution_count": null,
   "id": "00711d77",
   "metadata": {},
   "outputs": [],
   "source": []
  }
 ],
 "metadata": {
  "kernelspec": {
   "display_name": "Python 3",
   "language": "python",
   "name": "python3"
  },
  "language_info": {
   "codemirror_mode": {
    "name": "ipython",
    "version": 3
   },
   "file_extension": ".py",
   "mimetype": "text/x-python",
   "name": "python",
   "nbconvert_exporter": "python",
   "pygments_lexer": "ipython3",
   "version": "3.8.8"
  }
 },
 "nbformat": 4,
 "nbformat_minor": 5
}
