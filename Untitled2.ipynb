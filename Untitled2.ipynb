{
 "cells": [
  {
   "cell_type": "code",
   "execution_count": 1,
   "id": "81add0c0",
   "metadata": {},
   "outputs": [
    {
     "data": {
      "text/plain": [
       "'私の名前は〇〇です。出身地は〇〇です。'"
      ]
     },
     "execution_count": 1,
     "metadata": {},
     "output_type": "execute_result"
    }
   ],
   "source": [
    "name = '〇〇'\n",
    "birthplace = '〇〇'\n",
    "f'私の名前は{name}です。出身地は{birthplace}です。'"
   ]
  },
  {
   "cell_type": "code",
   "execution_count": 2,
   "id": "9da309a3",
   "metadata": {},
   "outputs": [
    {
     "data": {
      "text/plain": [
       "'私の名前は〇〇です。出身地は〇〇です。'"
      ]
     },
     "execution_count": 2,
     "metadata": {},
     "output_type": "execute_result"
    }
   ],
   "source": [
    "name = '〇〇'\n",
    "birthplace = '〇〇'\n",
    "'私の名前は{}です。出身地は{}です。'.format(name, birthplace)"
   ]
  },
  {
   "cell_type": "code",
   "execution_count": 4,
   "id": "d56072b9",
   "metadata": {},
   "outputs": [
    {
     "name": "stdout",
     "output_type": "stream",
     "text": [
      "私の名前は〇〇です。\n",
      "出身地は〇〇です。\n"
     ]
    }
   ],
   "source": [
    "name = '〇〇'\n",
    "birthplace = '〇〇'\n",
    "print(f'私の名前は{name}です。\\n出身地は{birthplace}です。')"
   ]
  },
  {
   "cell_type": "code",
   "execution_count": 5,
   "id": "945382c5",
   "metadata": {},
   "outputs": [
    {
     "name": "stdout",
     "output_type": "stream",
     "text": [
      "10進数=16, 16進数=10, １０進浮動小数点=16.000000\n"
     ]
    }
   ],
   "source": [
    "print(\"10進数=%d, 16進数=%x, １０進浮動小数点=%f\" % (16, 16, 16))"
   ]
  },
  {
   "cell_type": "code",
   "execution_count": 6,
   "id": "de972968",
   "metadata": {},
   "outputs": [
    {
     "data": {
      "text/plain": [
       "'HELLO'"
      ]
     },
     "execution_count": 6,
     "metadata": {},
     "output_type": "execute_result"
    }
   ],
   "source": [
    "'hello'.upper()"
   ]
  },
  {
   "cell_type": "code",
   "execution_count": 7,
   "id": "3b668156",
   "metadata": {},
   "outputs": [
    {
     "data": {
      "text/plain": [
       "'world'"
      ]
     },
     "execution_count": 7,
     "metadata": {},
     "output_type": "execute_result"
    }
   ],
   "source": [
    "'WORLD'.lower()"
   ]
  },
  {
   "cell_type": "code",
   "execution_count": 9,
   "id": "63e5aedb",
   "metadata": {},
   "outputs": [
    {
     "name": "stdout",
     "output_type": "stream",
     "text": [
      "私の名前はです。\n",
      "出身地はです。\n"
     ]
    }
   ],
   "source": [
    "message = '私の名前はです。\\n出身地はです。'\n",
    "print(message)"
   ]
  },
  {
   "cell_type": "code",
   "execution_count": null,
   "id": "7e3f6632",
   "metadata": {},
   "outputs": [],
   "source": []
  }
 ],
 "metadata": {
  "kernelspec": {
   "display_name": "Python 3",
   "language": "python",
   "name": "python3"
  },
  "language_info": {
   "codemirror_mode": {
    "name": "ipython",
    "version": 3
   },
   "file_extension": ".py",
   "mimetype": "text/x-python",
   "name": "python",
   "nbconvert_exporter": "python",
   "pygments_lexer": "ipython3",
   "version": "3.8.8"
  }
 },
 "nbformat": 4,
 "nbformat_minor": 5
}
